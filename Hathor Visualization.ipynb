{
 "cells": [
  {
   "cell_type": "code",
   "execution_count": 4,
   "metadata": {},
   "outputs": [],
   "source": [
    "from simulator import HathorSimulator, Miner, TxGenerator\n",
    "import matplotlib.pyplot as plt\n",
    "import numpy as np\n",
    "import scipy.stats"
   ]
  },
  {
   "cell_type": "code",
   "execution_count": 5,
   "metadata": {},
   "outputs": [],
   "source": [
    "sim = HathorSimulator(block_weight=30.26397217404985)\n",
    "\n",
    "m0 = Miner(hashpower=10000000)\n",
    "sim.add_miner(m0)\n",
    "\n",
    "g1 = TxGenerator(tx_lambda=1/4., hashpower=50000)\n",
    "sim.add_tx_generator(g1)"
   ]
  },
  {
   "cell_type": "code",
   "execution_count": 6,
   "metadata": {},
   "outputs": [
    {
     "name": "stdout",
     "output_type": "stream",
     "text": [
      "(0, 16, 1, 1)\n"
     ]
    }
   ],
   "source": [
    "sim.run(60*1)\n",
    "print(len(sim.blocks), len(sim.transactions), len(sim.tips), len(sim.pow))"
   ]
  },
  {
   "cell_type": "code",
   "execution_count": 7,
   "metadata": {},
   "outputs": [],
   "source": [
    "g2 = TxGenerator(tx_lambda=8., hashpower=50000)\n",
    "sim.add_tx_generator(g2)"
   ]
  },
  {
   "cell_type": "code",
   "execution_count": 18,
   "metadata": {},
   "outputs": [
    {
     "name": "stdout",
     "output_type": "stream",
     "text": [
      "(7, 8355, 23, 21)\n"
     ]
    }
   ],
   "source": [
    "sim.run(60)\n",
    "print(len(sim.blocks), len(sim.transactions), len(sim.tips), len(sim.pow))"
   ]
  },
  {
   "cell_type": "code",
   "execution_count": 19,
   "metadata": {},
   "outputs": [
    {
     "data": {
      "text/plain": [
       "{'acc_weight': 33.03522334713808,\n",
       " 'extras': {'confirmed_time': 1062.577268},\n",
       " 'is_confirmed': True,\n",
       " 'is_tip': False,\n",
       " 'name': '0',\n",
       " 'parents': [],\n",
       " 'publisher': None,\n",
       " 'simulator': <simulator.HathorSimulator at 0x105170210>,\n",
       " 'time': 0,\n",
       " 'type': 'genesis',\n",
       " 'weight': 0}"
      ]
     },
     "execution_count": 19,
     "metadata": {},
     "output_type": "execute_result"
    }
   ],
   "source": [
    "sim.transactions[0].__dict__"
   ]
  },
  {
   "cell_type": "code",
   "execution_count": 20,
   "metadata": {},
   "outputs": [
    {
     "data": {
      "text/plain": [
       "32.84893467477101"
      ]
     },
     "execution_count": 20,
     "metadata": {},
     "output_type": "execute_result"
    }
   ],
   "source": [
    "sim.min_weight_confirmed"
   ]
  },
  {
   "cell_type": "code",
   "execution_count": 21,
   "metadata": {
    "scrolled": false
   },
   "outputs": [
    {
     "name": "stdout",
     "output_type": "stream",
     "text": [
      "Digraph.gv.pdf\n"
     ]
    }
   ],
   "source": [
    "dot = sim.gen_dot()\n",
    "dot.attr(rankdir='RL')\n",
    "#dot.attr(rankdir='BT')\n",
    "#dot.attr(size='200, 30')\n",
    "dot.attr(overlap='scale')\n",
    "\n",
    "print(dot.render())\n",
    "#dot"
   ]
  },
  {
   "cell_type": "code",
   "execution_count": null,
   "metadata": {
    "scrolled": false
   },
   "outputs": [],
   "source": [
    "print(dot.source)"
   ]
  },
  {
   "cell_type": "code",
   "execution_count": null,
   "metadata": {},
   "outputs": [],
   "source": []
  },
  {
   "cell_type": "code",
   "execution_count": null,
   "metadata": {},
   "outputs": [],
   "source": []
  }
 ],
 "metadata": {
  "kernelspec": {
   "display_name": "Python 3",
   "language": "python",
   "name": "python3"
  },
  "language_info": {
   "codemirror_mode": {
    "name": "ipython",
    "version": 2
   },
   "file_extension": ".py",
   "mimetype": "text/x-python",
   "name": "python",
   "nbconvert_exporter": "python",
   "pygments_lexer": "ipython2",
   "version": "2.7.10"
  }
 },
 "nbformat": 4,
 "nbformat_minor": 2
}
